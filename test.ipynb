{
 "cells": [
  {
   "cell_type": "code",
   "execution_count": 1,
   "metadata": {},
   "outputs": [],
   "source": [
    "import numpy as np\n",
    "import torch\n",
    "import models\n",
    "import utils\n",
    "import time\n",
    "\n",
    "# X, Y = utils.generate_demonstrations(time_len=200, params=np.array([[0.6,-0.1],[0.5,-0.23],[0.4,-0.43],[-0.6,0.1],[-0.5,0.23],[-0.4,0.43]]), title='Training')\n",
    "# v_X, v_Y = utils.generate_demonstrations(time_len=200, params=np.array([[0.55,-0.155],[0.45,-0.32],[-0.45,0.32],[-0.55,0.155]]), title='Validation')\n",
    "# np.save('training_X',X)\n",
    "# np.save('training_Y',Y)\n",
    "# np.save('validation_X',v_X)\n",
    "# np.save('validation_Y',v_Y)\n",
    "\n",
    "X=np.load(\"training_X.npy\")\n",
    "Y=np.load(\"training_Y.npy\")\n",
    "X_val=np.load(\"validation_X.npy\")\n",
    "Y_val=np.load(\"validation_Y.npy\")\n",
    "obs_max = 5 \n",
    "d_N = X.shape[0] \n",
    "d_x , d_y = (X.shape[-1] , Y.shape[-1])\n",
    "time_len = X.shape[1] \n",
    "\n",
    "def get_train_sample1():\n",
    "    n = np.random.randint(0,obs_max)+1\n",
    "    d = np.random.randint(0, d_N)\n",
    "    \n",
    "    observations = np.zeros((n,d_x+d_y)) \n",
    "    target_X = np.zeros((1,d_x))\n",
    "    target_Y = np.zeros((1,d_y))\n",
    "    \n",
    "    perm = np.random.permutation(time_len)\n",
    "    observations[:n,:d_x] = X[d,perm[:n]]\n",
    "    observations[:n,d_x:d_x+d_y] = Y[d,perm[:n]]\n",
    "    target_X[0] = X[d,perm[n]]\n",
    "    target_Y[0] = Y[d,perm[n]]\n",
    "    return torch.from_numpy(observations), torch.from_numpy(target_X), torch.from_numpy(target_Y)\n",
    "\n",
    "def get_train_sample2(batch_size=1):\n",
    "    observations = np.zeros((batch_size, obs_max, d_x+d_y))\n",
    "    observation_mask = np.zeros((batch_size, obs_max))\n",
    "    target_X = np.zeros((batch_size, 1, d_x))\n",
    "    target_Y = np.zeros((batch_size, 1, d_y))\n",
    "    for i in range(batch_size):\n",
    "        n = np.random.randint(0,obs_max)+1\n",
    "        d = np.random.randint(0, d_N)\n",
    "        perm = np.random.permutation(time_len)\n",
    "        observations[i,:n,:d_x] = X[d,perm[:n]]\n",
    "        observations[i,:n,d_x:d_x+d_y] = Y[d,perm[:n]]\n",
    "        observation_mask[i,:n] = 1\n",
    "        target_X[i,0] = X[d,perm[n]]\n",
    "        target_Y[i,0] = Y[d,perm[n]]\n",
    "        \n",
    "    return  torch.from_numpy(observations), \\\n",
    "            torch.from_numpy(target_X), \\\n",
    "            torch.from_numpy(target_Y), \\\n",
    "            torch.from_numpy(observation_mask)\n",
    "        "
   ]
  },
  {
   "cell_type": "code",
   "execution_count": 4,
   "metadata": {},
   "outputs": [
    {
     "name": "stdout",
     "output_type": "stream",
     "text": [
      "Time taken:  14.623771667480469\n"
     ]
    }
   ],
   "source": [
    "# 1 - ALPER's Implementation WITHOUT batch\n",
    "\n",
    "cnp1 = models.CNP(\n",
    "    in_shape=(d_x, d_y),\n",
    "    hidden_size=32,\n",
    "    num_hidden_layers=2\n",
    ").double()\n",
    "optimizer1 = torch.optim.Adam(cnp1.parameters(), lr=1e-4)\n",
    "n_train_steps = 10000\n",
    "t0 = time.time()\n",
    "for _ in range(n_train_steps):\n",
    "    obs, target_x, target_y = get_train_sample1()\n",
    "    optimizer1.zero_grad()\n",
    "    loss = cnp1.nll_loss(\n",
    "        observation = obs.unsqueeze(0),\n",
    "        target = target_x.unsqueeze(0),\n",
    "        target_truth = target_y.unsqueeze(0)\n",
    "    )\n",
    "    loss.backward()\n",
    "    optimizer1.step()\n",
    "print(\"Time taken: \", time.time()-t0)"
   ]
  },
  {
   "cell_type": "code",
   "execution_count": 3,
   "metadata": {},
   "outputs": [
    {
     "name": "stdout",
     "output_type": "stream",
     "text": [
      "Time taken:  13.431654214859009\n"
     ]
    }
   ],
   "source": [
    "# 2 - ALPER's Implementation WITH batch stuff\n",
    "# prepare the observation_mask:\n",
    "\n",
    "cnp2 = models.CNP(\n",
    "    in_shape=(d_x, d_y),\n",
    "    hidden_size=32,\n",
    "    num_hidden_layers=2\n",
    ").double()\n",
    "optimizer2 = torch.optim.Adam(cnp2.parameters(), lr=1e-4)\n",
    "n_train_steps = 10000\n",
    "t0 = time.time()\n",
    "for _ in range(n_train_steps):\n",
    "    obs, target_x, target_y, obs_mask= get_train_sample2()\n",
    "    optimizer2.zero_grad()\n",
    "    loss = cnp2.nll_loss(\n",
    "        observation = obs,\n",
    "        target = target_x,\n",
    "        target_truth = target_y,\n",
    "        observation_mask = obs_mask\n",
    "    )\n",
    "    loss.backward()\n",
    "    optimizer2.step()\n",
    "print(\"Time taken: \", time.time()-t0)"
   ]
  },
  {
   "cell_type": "code",
   "execution_count": 2,
   "metadata": {},
   "outputs": [
    {
     "name": "stdout",
     "output_type": "stream",
     "text": [
      "Time taken:  14.726606845855713\n"
     ]
    }
   ],
   "source": [
    "# 3 - With torch compile\n",
    "cnp3 = models.CNP(\n",
    "    in_shape=(d_x, d_y),\n",
    "    hidden_size=32,\n",
    "    num_hidden_layers=2\n",
    ").double()\n",
    "cnp3 = torch.compile(cnp3)\n",
    "optimizer3 = torch.optim.Adam(cnp3.parameters(), lr=1e-4)\n",
    "t0 = time.time()\n",
    "for _ in range(10000):\n",
    "    obs, target_x, target_y, obs_mask= get_train_sample2()\n",
    "    optimizer3.zero_grad()\n",
    "    loss = cnp3.nll_loss(\n",
    "        observation = obs,\n",
    "        target = target_x,\n",
    "        target_truth = target_y,\n",
    "        observation_mask = obs_mask\n",
    "    )\n",
    "    loss.backward()\n",
    "    optimizer3.step()\n",
    "print(\"Time taken: \", time.time()-t0)"
   ]
  }
 ],
 "metadata": {
  "kernelspec": {
   "display_name": "fast_cnp",
   "language": "python",
   "name": "python3"
  },
  "language_info": {
   "codemirror_mode": {
    "name": "ipython",
    "version": 3
   },
   "file_extension": ".py",
   "mimetype": "text/x-python",
   "name": "python",
   "nbconvert_exporter": "python",
   "pygments_lexer": "ipython3",
   "version": "3.9.18"
  },
  "orig_nbformat": 4
 },
 "nbformat": 4,
 "nbformat_minor": 2
}
